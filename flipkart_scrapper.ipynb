{
 "nbformat": 4,
 "nbformat_minor": 0,
 "metadata": {
  "colab": {
   "name": "flipkart_scrapper.ipynb",
   "provenance": [],
   "toc_visible": true,
   "mount_file_id": "1BetZhYtQc_A7wHFtpUM_Up6BCg1d_3aE",
   "authorship_tag": "ABX9TyO1ZXOL9qu199+HrggP4RmK"
  },
  "kernelspec": {
   "name": "python3",
   "language": "python",
   "display_name": "Python 3"
  }
 },
 "cells": [
  {
   "cell_type": "code",
   "metadata": {
    "id": "tcEXuEkQxBc0",
    "executionInfo": {
     "status": "ok",
     "timestamp": 1612190515110,
     "user_tz": -330,
     "elapsed": 2481,
     "user": {
      "displayName": "VISHAL MAURYA",
      "photoUrl": "https://lh3.googleusercontent.com/a-/AOh14Gj07sCU48ESnfMq5cXbEVpE404O7PoQC5alprUo3w=s64",
      "userId": "11875371905243192924"
     }
    }
   },
   "source": [
    "from bs4 import BeautifulSoup\n",
    "import requests\n",
    "import csv\n",
    "import pandas as pd\n"
   ],
   "execution_count": 5,
   "outputs": []
  },
  {
   "cell_type": "code",
   "metadata": {
    "id": "A3c91hAgxnsV"
   },
   "source": [
    "phone_name = []\n",
    "prices =[]\n",
    "storage = []\n",
    "display_size = []\n",
    "camera = []\n",
    "battery = []\n",
    "processor = []\n",
    "ratings =[]"
   ],
   "execution_count": 6,
   "outputs": []
  },
  {
   "cell_type": "code",
   "metadata": {
    "id": "Pdn54yf5yPEK"
   },
   "source": [
    "pages = list(range(1,40))\n",
    "for page in pages:\n",
    "  req = requests.get(\"https://www.flipkart.com/search?sid=tyy%2C4io&otracker=CLP_Filters&p%5B%5D=facets.price_range.from%3D4000&p%5B%5D=facets.price_range.to%3DMax&p%5B%5D=facets.brand%255B%255D%3DPOCO&p%5B%5D=facets.brand%255B%255D%3DRealme&p%5B%5D=facets.brand%255B%255D%3DMotorola&p%5B%5D=facets.brand%255B%255D%3DInfinix&p%5B%5D=facets.brand%255B%255D%3DSamsung&p%5B%5D=facets.brand%255B%255D%3DMi&p%5B%5D=facets.brand%255B%255D%3DApple&p%5B%5D=facets.brand%255B%255D%3DHonor&p%5B%5D=facets.brand%255B%255D%3DHuawei&p%5B%5D=facets.brand%255B%255D%3DHTC&p%5B%5D=facets.brand%255B%255D%3DGome&p%5B%5D=facets.brand%255B%255D%3DInFocus&p%5B%5D=facets.brand%255B%255D%3DiQOO&p%5B%5D=facets.brand%255B%255D%3DLenovo&p%5B%5D=facets.brand%255B%255D%3DLG&p%5B%5D=facets.brand%255B%255D%3DMicromax&p%5B%5D=facets.brand%255B%255D%3DMicrosoft&p%5B%5D=facets.brand%255B%255D%3DNokia&p%5B%5D=facets.brand%255B%255D%3DOnePlus&p%5B%5D=facets.brand%255B%255D%3DOPPO&p%5B%5D=facets.brand%255B%255D%3DPanasonic&p%5B%5D=facets.brand%255B%255D%3DRedmi&p%5B%5D=facets.brand%255B%255D%3DSony&p%5B%5D=facets.brand%255B%255D%3Dtecno&p%5B%5D=facets.brand%255B%255D%3DVIVO&p%5B%5D=facets.brand%255B%255D%3Dvivo&p%5B%5D=facets.brand%255B%255D%3DVivo&p%5B%5D=facets.brand%255B%255D%3Dxiaomi&p%5B%5D=facets.brand%255B%255D%3DYu&page={}\".format(page)).text\n",
    "  soup = BeautifulSoup(req, 'html.parser')\n",
    "\n",
    "  name = soup.find_all('div' , class_='_4rR01T')\n",
    "  for i in range(len(name)):\n",
    "      phone_name.append(name[i].text)\n",
    "  len(phone_name)\n",
    "\n",
    "  commonclass = soup.find_all('li',class_='rgWa7D')\n",
    "  for i in range(0,len(commonclass)):\n",
    "    p=commonclass[i].text\n",
    "    if(\"RAM\" in p): \n",
    "        storage.append(p)\n",
    "    elif(\"Display\" in p): \n",
    "        display_size.append(p)\n",
    "    elif(\"MP\" in p):\n",
    "        camera.append(p)\n",
    "    elif(\"mAh\" in p):\n",
    "        battery.append(p)\n",
    "    elif(\"Processor\" in p):\n",
    "        processor.append(p)\n",
    "   \n",
    "  price = soup.find_all('div',class_='_30jeq3 _1_WHN1') \n",
    "  # Extracting price of each laptop from the website\n",
    "  for i in range(len(price)):\n",
    "    prices.append(price[i].text)\n",
    "    len(prices)\n",
    "  \n",
    "  \n",
    "\n",
    "  "
   ],
   "execution_count": 12,
   "outputs": []
  },
  {
   "cell_type": "code",
   "metadata": {
    "colab": {
     "base_uri": "https://localhost:8080/"
    },
    "id": "QH0gex6h19RS",
    "executionInfo": {
     "status": "ok",
     "timestamp": 1612190266692,
     "user_tz": -330,
     "elapsed": 1146,
     "user": {
      "displayName": "VISHAL MAURYA",
      "photoUrl": "https://lh3.googleusercontent.com/a-/AOh14Gj07sCU48ESnfMq5cXbEVpE404O7PoQC5alprUo3w=s64",
      "userId": "11875371905243192924"
     }
    },
    "outputId": "9636aab1-7685-4fb4-a0c6-5d856d661c27"
   },
   "source": [
    "print(len(phone_name))\n",
    "print(len(prices))\n",
    "print(len(storage))\n",
    "print(len(display_size))\n",
    "print(len(camera))\n",
    "print(len(battery))\n",
    "print(len(processor))\n",
    "\n"
   ],
   "execution_count": 13,
   "outputs": [
    {
     "name": "stdout",
     "output_type": "stream",
     "text": [
      "1872\n",
      "1872\n",
      "1676\n",
      "2213\n",
      "1883\n",
      "1668\n",
      "1753\n"
     ]
    }
   ]
  },
  {
   "cell_type": "code",
   "metadata": {
    "colab": {
     "base_uri": "https://localhost:8080/"
    },
    "id": "NxWum-PH2fRp",
    "executionInfo": {
     "status": "ok",
     "timestamp": 1612190285249,
     "user_tz": -330,
     "elapsed": 1229,
     "user": {
      "displayName": "VISHAL MAURYA",
      "photoUrl": "https://lh3.googleusercontent.com/a-/AOh14Gj07sCU48ESnfMq5cXbEVpE404O7PoQC5alprUo3w=s64",
      "userId": "11875371905243192924"
     }
    },
    "outputId": "6c6c3ff4-5e34-47bd-f10a-a160a7e16ee6"
   },
   "source": [
    "df = {'Phone_Name':phone_name,'Processor':processor,\n",
    "      'RAM':storage,'Display':display_size,\n",
    "      'Camera':camera,'Price':prices,\n",
    "      'Battery':battery}\n",
    "\n",
    "res = dict()\n",
    "for sub in df: \n",
    "      \n",
    "    # slicing till K and reassigning \n",
    "    res[sub] = df[sub][:1668]\n"
   ],
   "execution_count": 18,
   "outputs": []
  },
  {
   "cell_type": "code",
   "metadata": {
    "id": "xkOvcq-I6srX"
   },
   "source": [],
   "execution_count": 18,
   "outputs": []
  },
  {
   "cell_type": "code",
   "metadata": {
    "colab": {
     "base_uri": "https://localhost:8080/",
     "height": 162
    },
    "id": "ws-8t9o63j1u",
    "executionInfo": {
     "status": "error",
     "timestamp": 1612188326227,
     "user_tz": -330,
     "elapsed": 1245,
     "user": {
      "displayName": "VISHAL MAURYA",
      "photoUrl": "https://lh3.googleusercontent.com/a-/AOh14Gj07sCU48ESnfMq5cXbEVpE404O7PoQC5alprUo3w=s64",
      "userId": "11875371905243192924"
     }
    },
    "outputId": "b0f65bd7-580a-43f5-85e2-58091a59d6c5"
   },
   "source": [],
   "execution_count": 18,
   "outputs": []
  },
  {
   "cell_type": "code",
   "metadata": {
    "colab": {
     "base_uri": "https://localhost:8080/",
     "height": 1000
    },
    "id": "hnfU_wpj4IW0",
    "executionInfo": {
     "status": "ok",
     "timestamp": 1612190291749,
     "user_tz": -330,
     "elapsed": 1059,
     "user": {
      "displayName": "VISHAL MAURYA",
      "photoUrl": "https://lh3.googleusercontent.com/a-/AOh14Gj07sCU48ESnfMq5cXbEVpE404O7PoQC5alprUo3w=s64",
      "userId": "11875371905243192924"
     }
    },
    "outputId": "af925131-1a67-4b71-ed2a-ab0ef9c537dd"
   },
   "source": [
    "dataset = pd.DataFrame(data = res)\n",
    "dataset"
   ],
   "execution_count": 19,
   "outputs": [
    {
     "data": {
      "text/plain": "                                          Phone_Name  \\\n0                        POCO M2 (Slate Blue, 64 GB)   \n1                       POCO C3 (Arctic Blue, 64 GB)   \n2                       POCO M2 (Pitch Black, 64 GB)   \n3                         Redmi 9i (Sea Blue, 64 GB)   \n4                         POCO M2 (Brick Red, 64 GB)   \n...                                              ...   \n1663               OPPO A9 (Fluorite Purple, 128 GB)   \n1664  Samsung Galaxy Note 20 (Mystic Bronze, 256 GB)   \n1665                   Redmi 7A (Matte Black, 16 GB)   \n1666               Redmi Note 7S (Onyx Black, 32 GB)   \n1667                    Panasonic P101 (Blue, 16 GB)   \n\n                                      Processor  \\\n0                  MediaTek Helio G80 Processor   \n1                  Mediatek Helio G35 Processor   \n2                  MediaTek Helio G80 Processor   \n3                  MediaTek Helio G25 Processor   \n4                  MediaTek Helio G80 Processor   \n...                                         ...   \n1663          Qualcomm Snapdragon 625 Processor   \n1664          Qualcomm Snapdragon 665 Processor   \n1665  Qualcomm Snapdragon 425 1.4 GHz Processor   \n1666   Qualcomm Snapdragon 835 64-bit Processor   \n1667                  A13 Bionic Chip Processor   \n\n                                                 RAM  \\\n0      6 GB RAM | 64 GB ROM | Expandable Upto 512 GB   \n1      4 GB RAM | 64 GB ROM | Expandable Upto 512 GB   \n2      6 GB RAM | 64 GB ROM | Expandable Upto 512 GB   \n3      4 GB RAM | 64 GB ROM | Expandable Upto 512 GB   \n4      6 GB RAM | 64 GB ROM | Expandable Upto 512 GB   \n...                                              ...   \n1663                            3 GB RAM | 32 GB ROM   \n1664   2 GB RAM | 32 GB ROM | Expandable Upto 128 GB   \n1665  4 GB RAM | 128 GB ROM | Expandable Upto 256 GB   \n1666   4 GB RAM | 64 GB ROM | Expandable Upto 256 GB   \n1667   4 GB RAM | 64 GB ROM | Expandable Upto 256 GB   \n\n                                           Display  \\\n0            16.59 cm (6.53 inch) Full HD+ Display   \n1                 16.59 cm (6.53 inch) HD+ Display   \n2            16.59 cm (6.53 inch) Full HD+ Display   \n3                 16.59 cm (6.53 inch) HD+ Display   \n4            16.59 cm (6.53 inch) Full HD+ Display   \n...                                            ...   \n1663               16.56 cm (6.52 inch) HD Display   \n1664         16.23 cm (6.39 inch) Full HD+ Display   \n1665  15.49 cm (6.1 inch) Liquid Retina HD Display   \n1666  15.49 cm (6.1 inch) Super Retina XDR Display   \n1667                       All Screen OLED Display   \n\n                                         Camera    Price  \\\n0     13MP + 8MP + 5MP + 2MP | 8MP Front Camera   ₹9,999   \n1           13MP + 2MP + 2MP | 5MP Front Camera   ₹8,499   \n2     13MP + 8MP + 5MP + 2MP | 8MP Front Camera   ₹9,999   \n3           13MP Rear Camera | 5MP Front Camera   ₹8,299   \n4     13MP + 8MP + 5MP + 2MP | 8MP Front Camera   ₹9,999   \n...                                         ...      ...   \n1663        13MP Rear Camera | 5MP Front Camera  ₹12,990   \n1664              13MP + 2MP | 5MP Front Camera  ₹77,999   \n1665                           64MP Rear Camera   ₹6,499   \n1666        12MP Rear Camera | 5MP Front Camera  ₹11,999   \n1667                           13MP Rear Camera   ₹5,599   \n\n                               Battery  \n0     5000 mAh Lithium Polymer Battery  \n1      5000 mAh Li-ion Polymer Battery  \n2     5000 mAh Lithium Polymer Battery  \n3     5000 mAh Lithium Polymer Battery  \n4     5000 mAh Lithium Polymer Battery  \n...                                ...  \n1663  3400 mAh Lithium Polymer Battery  \n1664           3400 mAh Li-ion Battery  \n1665                  2000 mAh Battery  \n1666                  4000 mAh Battery  \n1667                  4000 mAh Battery  \n\n[1668 rows x 7 columns]",
      "text/html": "<div>\n<style scoped>\n    .dataframe tbody tr th:only-of-type {\n        vertical-align: middle;\n    }\n\n    .dataframe tbody tr th {\n        vertical-align: top;\n    }\n\n    .dataframe thead th {\n        text-align: right;\n    }\n</style>\n<table border=\"1\" class=\"dataframe\">\n  <thead>\n    <tr style=\"text-align: right;\">\n      <th></th>\n      <th>Phone_Name</th>\n      <th>Processor</th>\n      <th>RAM</th>\n      <th>Display</th>\n      <th>Camera</th>\n      <th>Price</th>\n      <th>Battery</th>\n    </tr>\n  </thead>\n  <tbody>\n    <tr>\n      <th>0</th>\n      <td>POCO M2 (Slate Blue, 64 GB)</td>\n      <td>MediaTek Helio G80 Processor</td>\n      <td>6 GB RAM | 64 GB ROM | Expandable Upto 512 GB</td>\n      <td>16.59 cm (6.53 inch) Full HD+ Display</td>\n      <td>13MP + 8MP + 5MP + 2MP | 8MP Front Camera</td>\n      <td>₹9,999</td>\n      <td>5000 mAh Lithium Polymer Battery</td>\n    </tr>\n    <tr>\n      <th>1</th>\n      <td>POCO C3 (Arctic Blue, 64 GB)</td>\n      <td>Mediatek Helio G35 Processor</td>\n      <td>4 GB RAM | 64 GB ROM | Expandable Upto 512 GB</td>\n      <td>16.59 cm (6.53 inch) HD+ Display</td>\n      <td>13MP + 2MP + 2MP | 5MP Front Camera</td>\n      <td>₹8,499</td>\n      <td>5000 mAh Li-ion Polymer Battery</td>\n    </tr>\n    <tr>\n      <th>2</th>\n      <td>POCO M2 (Pitch Black, 64 GB)</td>\n      <td>MediaTek Helio G80 Processor</td>\n      <td>6 GB RAM | 64 GB ROM | Expandable Upto 512 GB</td>\n      <td>16.59 cm (6.53 inch) Full HD+ Display</td>\n      <td>13MP + 8MP + 5MP + 2MP | 8MP Front Camera</td>\n      <td>₹9,999</td>\n      <td>5000 mAh Lithium Polymer Battery</td>\n    </tr>\n    <tr>\n      <th>3</th>\n      <td>Redmi 9i (Sea Blue, 64 GB)</td>\n      <td>MediaTek Helio G25 Processor</td>\n      <td>4 GB RAM | 64 GB ROM | Expandable Upto 512 GB</td>\n      <td>16.59 cm (6.53 inch) HD+ Display</td>\n      <td>13MP Rear Camera | 5MP Front Camera</td>\n      <td>₹8,299</td>\n      <td>5000 mAh Lithium Polymer Battery</td>\n    </tr>\n    <tr>\n      <th>4</th>\n      <td>POCO M2 (Brick Red, 64 GB)</td>\n      <td>MediaTek Helio G80 Processor</td>\n      <td>6 GB RAM | 64 GB ROM | Expandable Upto 512 GB</td>\n      <td>16.59 cm (6.53 inch) Full HD+ Display</td>\n      <td>13MP + 8MP + 5MP + 2MP | 8MP Front Camera</td>\n      <td>₹9,999</td>\n      <td>5000 mAh Lithium Polymer Battery</td>\n    </tr>\n    <tr>\n      <th>...</th>\n      <td>...</td>\n      <td>...</td>\n      <td>...</td>\n      <td>...</td>\n      <td>...</td>\n      <td>...</td>\n      <td>...</td>\n    </tr>\n    <tr>\n      <th>1663</th>\n      <td>OPPO A9 (Fluorite Purple, 128 GB)</td>\n      <td>Qualcomm Snapdragon 625 Processor</td>\n      <td>3 GB RAM | 32 GB ROM</td>\n      <td>16.56 cm (6.52 inch) HD Display</td>\n      <td>13MP Rear Camera | 5MP Front Camera</td>\n      <td>₹12,990</td>\n      <td>3400 mAh Lithium Polymer Battery</td>\n    </tr>\n    <tr>\n      <th>1664</th>\n      <td>Samsung Galaxy Note 20 (Mystic Bronze, 256 GB)</td>\n      <td>Qualcomm Snapdragon 665 Processor</td>\n      <td>2 GB RAM | 32 GB ROM | Expandable Upto 128 GB</td>\n      <td>16.23 cm (6.39 inch) Full HD+ Display</td>\n      <td>13MP + 2MP | 5MP Front Camera</td>\n      <td>₹77,999</td>\n      <td>3400 mAh Li-ion Battery</td>\n    </tr>\n    <tr>\n      <th>1665</th>\n      <td>Redmi 7A (Matte Black, 16 GB)</td>\n      <td>Qualcomm Snapdragon 425 1.4 GHz Processor</td>\n      <td>4 GB RAM | 128 GB ROM | Expandable Upto 256 GB</td>\n      <td>15.49 cm (6.1 inch) Liquid Retina HD Display</td>\n      <td>64MP Rear Camera</td>\n      <td>₹6,499</td>\n      <td>2000 mAh Battery</td>\n    </tr>\n    <tr>\n      <th>1666</th>\n      <td>Redmi Note 7S (Onyx Black, 32 GB)</td>\n      <td>Qualcomm Snapdragon 835 64-bit Processor</td>\n      <td>4 GB RAM | 64 GB ROM | Expandable Upto 256 GB</td>\n      <td>15.49 cm (6.1 inch) Super Retina XDR Display</td>\n      <td>12MP Rear Camera | 5MP Front Camera</td>\n      <td>₹11,999</td>\n      <td>4000 mAh Battery</td>\n    </tr>\n    <tr>\n      <th>1667</th>\n      <td>Panasonic P101 (Blue, 16 GB)</td>\n      <td>A13 Bionic Chip Processor</td>\n      <td>4 GB RAM | 64 GB ROM | Expandable Upto 256 GB</td>\n      <td>All Screen OLED Display</td>\n      <td>13MP Rear Camera</td>\n      <td>₹5,599</td>\n      <td>4000 mAh Battery</td>\n    </tr>\n  </tbody>\n</table>\n<p>1668 rows × 7 columns</p>\n</div>"
     },
     "execution_count": 19,
     "metadata": {},
     "output_type": "execute_result"
    }
   ]
  },
  {
   "cell_type": "markdown",
   "metadata": {
    "id": "9Im8J8oAChPd"
   },
   "source": []
  },
  {
   "cell_type": "code",
   "metadata": {
    "id": "F8NMxxqq5zdE"
   },
   "source": [
    "dataset.to_csv('mobile_flipkartData.csv')"
   ],
   "execution_count": 17,
   "outputs": []
  },
  {
   "cell_type": "code",
   "metadata": {
    "id": "b9CWWBAQ91L2"
   },
   "source": [
    ""
   ],
   "execution_count": null,
   "outputs": []
  }
 ]
}